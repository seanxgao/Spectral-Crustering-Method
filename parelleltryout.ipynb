{
 "cells": [
  {
   "cell_type": "code",
   "execution_count": 1,
   "id": "748190c4-560e-4f37-98e3-6f65befbdbf1",
   "metadata": {},
   "outputs": [],
   "source": [
    "import os\n",
    "import numpy as np\n",
    "from scipy.sparse import linalg as LA\n",
    "from concurrent.futures import ThreadPoolExecutor, ProcessPoolExecutor, as_completed\n",
    "from dataclasses import dataclass\n",
    "from typing import List, Optional, Tuple\n",
    "\n",
    "# —— 建议（可选）：避免过度并行（在导入 numpy/scipy 之前设置更佳）——\n",
    "os.environ.setdefault(\"OMP_NUM_THREADS\", \"1\")\n",
    "os.environ.setdefault(\"MKL_NUM_THREADS\", \"1\")\n",
    "os.environ.setdefault(\"OPENBLAS_NUM_THREADS\", \"1\")\n",
    "\n",
    "# ===== 你已有的函数/类（原样使用，或用你自己的版本） =====\n",
    "\n",
    "def bicut_group(L):\n",
    "    \"\"\"\n",
    "    Enhanced spectral clustering function that returns both sign-based and optimal cuts.\n",
    "    Args:\n",
    "        L: numpy or scipy sparse (sub-)graph Laplacian (symmetric PSD)\n",
    "    Returns:\n",
    "        tuple: (first_group, second_group) (local indices)\n",
    "    \"\"\"\n",
    "    n = L.shape[0]\n",
    "    if n == 0:\n",
    "        raise ValueError(\"The Laplacian matrix is empty.\")\n",
    "    if n == 1:\n",
    "        return [0], []\n",
    "    if n == 2:\n",
    "        return [0], [1]\n",
    "\n",
    "    # Fiedler vector\n",
    "    _, eigenvecs = LA.eigsh(L, k=2, which='SA')   # 取最小两个特征值\n",
    "    fiedler = eigenvecs[:, 1]\n",
    "    order = np.argsort(fiedler)\n",
    "\n",
    "    # 用 -L 的非对角元做邻接（拉普拉斯 L 的非对角是 -A）\n",
    "    # 只用到严格上三角/下三角，不含对角度数项\n",
    "    adj = -L[np.ix_(order, order)]\n",
    "\n",
    "    ind = np.arange(1, n)\n",
    "    # 质量：跨割边权 / (|S| * |S^c|)  —— 你的实现保持不变\n",
    "    upper_tri_sums = np.array([np.sum(adj[i:, :i]) for i in ind])\n",
    "    qualities = upper_tri_sums / (ind * (n - ind))\n",
    "    best_cut = np.argmin(qualities) + 1\n",
    "\n",
    "    g1 = order[:best_cut]\n",
    "    g2 = order[best_cut:]\n",
    "    return (g1, g2) if 0 in g1 else (g2, g1)\n",
    "\n",
    "\n",
    "class BiCutNode:\n",
    "    def __init__(self, indices, left=None, right=None):\n",
    "        self.indices = indices\n",
    "        self.left = left\n",
    "        self.right = right\n",
    "\n",
    "    def is_leaf(self):\n",
    "        return self.left is None and self.right is None\n",
    "\n",
    "    def get_order(self):\n",
    "        order = []\n",
    "        def dfs(node):\n",
    "            if node.is_leaf():\n",
    "                order.extend(node.indices)\n",
    "            else:\n",
    "                if node.left: dfs(node.left)\n",
    "                if node.right: dfs(node.right)\n",
    "        dfs(self)\n",
    "        return order\n",
    "\n",
    "    def print_fancy_tree(self, prefix=\"\", is_last=True, is_root=True):\n",
    "        if is_root:\n",
    "            print(\"┌─ BiCut Tree Structure\")\n",
    "        connector = \"├─\" if is_root else (\"└─\" if is_last else \"├─\")\n",
    "        print(f\"{prefix}{connector} [{', '.join(map(str, sorted(self.indices)))}]\")\n",
    "        new_prefix = prefix + (\"│  \" if is_root else (\"   \" if is_last else \"│  \"))\n",
    "        children = [c for c in (self.left, self.right) if c is not None]\n",
    "        for i, child in enumerate(children):\n",
    "            child.print_fancy_tree(new_prefix, i == len(children) - 1, False)\n",
    "\n",
    "import os, math\n",
    "from concurrent.futures import ThreadPoolExecutor\n",
    "\n",
    "# === 直接使用你已有的 bicut_group 与 BiCutNode ===\n",
    "# def bicut_group(L): ...（用你给的版本）\n",
    "# class BiCutNode: ...（用你给的版本）\n",
    "\n",
    "def treebuilder_parallel(L, thre=None, workers=None, max_parallel_depth=None):\n",
    "    \"\"\"\n",
    "    简洁并行版 BiCut 构树（线程池）\n",
    "    参数：\n",
    "      - L: 整体拉普拉斯矩阵（numpy 或 scipy.sparse CSR/CSC）\n",
    "      - thre: 叶子阈值（子块规模 ≤ thre 就不再切）\n",
    "      - workers: 并行线程数（默认=CPU核数）\n",
    "      - max_parallel_depth: 最大并行深度，超过就转串行，防止任务过多\n",
    "    返回：\n",
    "      - BiCutNode 根节点\n",
    "    \"\"\"\n",
    "    if workers is None:\n",
    "        workers = max(os.cpu_count() or 1, 1)\n",
    "\n",
    "    # 经验：2^d >= workers ⇒ d ≈ ceil(log2(workers))\n",
    "    if max_parallel_depth is None:\n",
    "        max_parallel_depth = max(1, int(math.ceil(math.log2(workers))))\n",
    "\n",
    "    # 内部递归函数：当 depth < max_parallel_depth 时并行左右子树，否则串行\n",
    "    def _build(L_sub, indices, depth, executor):\n",
    "        n = len(indices)\n",
    "        # —— 基本情形：小块或阈值内就收叶子\n",
    "        if n == 0:\n",
    "            raise ValueError(\"矩阵为空。\")\n",
    "        if n == 1:\n",
    "            return BiCutNode(indices)\n",
    "        if n == 2:\n",
    "            return BiCutNode(indices, BiCutNode([indices[0]]), BiCutNode([indices[1]]))\n",
    "        if (thre is not None) and (n <= thre):\n",
    "            return BiCutNode(indices)\n",
    "\n",
    "        # —— 试着再切一刀\n",
    "        g1_local, g2_local = bicut_group(L_sub)\n",
    "        if len(g2_local) == 0:            # 切不动了，收叶子\n",
    "            return BiCutNode(indices)\n",
    "\n",
    "        # 局部→全局 索引\n",
    "        g1 = [indices[i] for i in g1_local]\n",
    "        g2 = [indices[i] for i in g2_local]\n",
    "\n",
    "        # 子块拉普拉斯（与局部索引对齐）\n",
    "        L11 = L_sub[np.ix_(g1_local, g1_local)]\n",
    "        L22 = L_sub[np.ix_(g2_local, g2_local)]\n",
    "\n",
    "        # —— 到这一步需要构左右子树：并行或串行\n",
    "        if depth < max_parallel_depth and workers > 1 and executor is not None:\n",
    "            # 并行提交左右子树\n",
    "            f_left  = executor.submit(_build, L11, g1, depth + 1, executor)\n",
    "            f_right = executor.submit(_build, L22, g2, depth + 1, executor)\n",
    "            left  = f_left.result()\n",
    "            right = f_right.result()\n",
    "        else:\n",
    "            # 超过并行深度，直接串行，避免任务过多\n",
    "            left  = _build(L11, g1, depth + 1, executor)\n",
    "            right = _build(L22, g2, depth + 1, executor)\n",
    "\n",
    "        return BiCutNode(indices, left, right)\n",
    "\n",
    "    # 线程池外层只开一次；把根任务丢进去递归构建\n",
    "    with ThreadPoolExecutor(max_workers=workers) as ex:\n",
    "        root = _build(L, list(range(L.shape[0])), 0, ex)\n",
    "    return root\n"
   ]
  },
  {
   "cell_type": "code",
   "execution_count": 4,
   "id": "99636fb8-384f-4d34-96fc-9efc790c4a17",
   "metadata": {},
   "outputs": [
    {
     "name": "stdout",
     "output_type": "stream",
     "text": [
      "Defaulting to user installation because normal site-packages is not writeable\n",
      "Requirement already satisfied: joblib in c:\\users\\xeangao\\appdata\\local\\packages\\pythonsoftwarefoundation.python.3.13_qbz5n2kfra8p0\\localcache\\local-packages\\python313\\site-packages (1.5.2)\n"
     ]
    }
   ],
   "source": []
  },
  {
   "cell_type": "code",
   "execution_count": 6,
   "id": "a3890291-800b-44ba-a2e5-ca4e1a2340c3",
   "metadata": {},
   "outputs": [
    {
     "name": "stdout",
     "output_type": "stream",
     "text": [
      "PY: C:\\Users\\xeangao\\AppData\\Local\\Programs\\Python\\Python313\\python.exe\n",
      "VER: 3.13.7 (tags/v3.13.7:bcee1c3, Aug 14 2025, 14:15:11) [MSC v.1944 64 bit (AMD64)]\n",
      "ENABLE_USER_SITE: True\n",
      "USER_SITE: C:\\Users\\xeangao\\AppData\\Roaming\\Python\\Python313\\site-packages\n",
      "['C:\\\\Users\\\\xeangao\\\\AppData\\\\Local\\\\Programs\\\\Python\\\\Python313\\\\python313.zip',\n",
      " 'C:\\\\Users\\\\xeangao\\\\AppData\\\\Local\\\\Programs\\\\Python\\\\Python313\\\\DLLs',\n",
      " 'C:\\\\Users\\\\xeangao\\\\AppData\\\\Local\\\\Programs\\\\Python\\\\Python313\\\\Lib',\n",
      " 'C:\\\\Users\\\\xeangao\\\\AppData\\\\Local\\\\Programs\\\\Python\\\\Python313',\n",
      " '',\n",
      " 'C:\\\\Users\\\\xeangao\\\\AppData\\\\Local\\\\Programs\\\\Python\\\\Python313\\\\Lib\\\\site-packages',\n",
      " 'C:\\\\Users\\\\xeangao\\\\AppData\\\\Local\\\\Programs\\\\Python\\\\Python313\\\\Lib\\\\site-packages\\\\win32',\n",
      " 'C:\\\\Users\\\\xeangao\\\\AppData\\\\Local\\\\Programs\\\\Python\\\\Python313\\\\Lib\\\\site-packages\\\\win32\\\\lib',\n",
      " 'C:\\\\Users\\\\xeangao\\\\AppData\\\\Local\\\\Programs\\\\Python\\\\Python313\\\\Lib\\\\site-packages\\\\Pythonwin']\n"
     ]
    }
   ],
   "source": []
  },
  {
   "cell_type": "code",
   "execution_count": 6,
   "id": "b67f1564-57f1-4aa0-b15a-0fef4740870b",
   "metadata": {},
   "outputs": [],
   "source": [
    "from tests import *"
   ]
  },
  {
   "cell_type": "code",
   "execution_count": 7,
   "id": "c63b3dd3-5e41-454c-a179-e72f4535218f",
   "metadata": {},
   "outputs": [
    {
     "data": {
      "text/plain": [
       "{'duration': 5.627856731414795,\n",
       " 'memory': 52.73046016693115,\n",
       " 'ratio': 1.0777642118214232,\n",
       " 'matrix': array([[                 130, 18446744073709551615, 18446744073709551615,\n",
       "         ...,                    0, 18446744073709551615,\n",
       "                            0],\n",
       "        [18446744073709551615,                  118,                    0,\n",
       "         ..., 18446744073709551615, 18446744073709551615,\n",
       "                            0],\n",
       "        [18446744073709551615,                    0,                  123,\n",
       "         ..., 18446744073709551615, 18446744073709551615,\n",
       "                            0],\n",
       "        ...,\n",
       "        [                   0, 18446744073709551615, 18446744073709551615,\n",
       "         ...,                  120, 18446744073709551615,\n",
       "         18446744073709551615],\n",
       "        [18446744073709551615, 18446744073709551615, 18446744073709551615,\n",
       "         ..., 18446744073709551615,                  131,\n",
       "         18446744073709551615],\n",
       "        [                   0,                    0,                    0,\n",
       "         ..., 18446744073709551615, 18446744073709551615,\n",
       "                          123]], shape=(400, 400), dtype=uint64)}"
      ]
     },
     "execution_count": 7,
     "metadata": {},
     "output_type": "execute_result"
    }
   ],
   "source": [
    "run_one_graph_test(1,20,20,20,False)"
   ]
  },
  {
   "cell_type": "code",
   "execution_count": 8,
   "id": "8872209f-2a94-4315-aed2-5bcb49df55b3",
   "metadata": {},
   "outputs": [
    {
     "data": {
      "text/plain": [
       "{'duration': 5.801391124725342,\n",
       " 'memory': 55.444167137145996,\n",
       " 'ratio': 1.0708105257871743,\n",
       " 'matrix': array([[                 130, 18446744073709551615, 18446744073709551615,\n",
       "         ...,                    0, 18446744073709551615,\n",
       "                            0],\n",
       "        [18446744073709551615,                  118,                    0,\n",
       "         ..., 18446744073709551615, 18446744073709551615,\n",
       "                            0],\n",
       "        [18446744073709551615,                    0,                  123,\n",
       "         ..., 18446744073709551615, 18446744073709551615,\n",
       "                            0],\n",
       "        ...,\n",
       "        [                   0, 18446744073709551615, 18446744073709551615,\n",
       "         ...,                  120, 18446744073709551615,\n",
       "         18446744073709551615],\n",
       "        [18446744073709551615, 18446744073709551615, 18446744073709551615,\n",
       "         ..., 18446744073709551615,                  131,\n",
       "         18446744073709551615],\n",
       "        [                   0,                    0,                    0,\n",
       "         ..., 18446744073709551615, 18446744073709551615,\n",
       "                          123]], shape=(400, 400), dtype=uint64)}"
      ]
     },
     "execution_count": 8,
     "metadata": {},
     "output_type": "execute_result"
    }
   ],
   "source": [
    "run_one_graph_test(1,20,20,20,True)"
   ]
  },
  {
   "cell_type": "code",
   "execution_count": 5,
   "id": "0d371e93-d36d-4db5-b51c-fbd5dfdc150e",
   "metadata": {
    "editable": true,
    "slideshow": {
     "slide_type": ""
    },
    "tags": []
   },
   "outputs": [
    {
     "data": {
      "text/plain": [
       "np.True_"
      ]
     },
     "execution_count": 5,
     "metadata": {},
     "output_type": "execute_result"
    }
   ],
   "source": [
    "np.all(L1==L2)"
   ]
  },
  {
   "cell_type": "code",
   "execution_count": 58,
   "id": "11a5232e-10af-4de5-baf8-647ad487622d",
   "metadata": {},
   "outputs": [],
   "source": []
  },
  {
   "cell_type": "code",
   "execution_count": 59,
   "id": "a61ddd13-bb2f-4d6f-bf87-03465483e671",
   "metadata": {},
   "outputs": [
    {
     "data": {
      "text/plain": [
       "np.True_"
      ]
     },
     "execution_count": 59,
     "metadata": {},
     "output_type": "execute_result"
    }
   ],
   "source": [
    "np.all(A==B)"
   ]
  },
  {
   "cell_type": "code",
   "execution_count": 2,
   "id": "79490ca2-56df-452d-91c3-8adb4fc1b584",
   "metadata": {},
   "outputs": [
    {
     "ename": "NameError",
     "evalue": "name 'eigsh' is not defined",
     "output_type": "error",
     "traceback": [
      "\u001b[31m---------------------------------------------------------------------------\u001b[39m",
      "\u001b[31mNameError\u001b[39m                                 Traceback (most recent call last)",
      "\u001b[36mCell\u001b[39m\u001b[36m \u001b[39m\u001b[32mIn[2]\u001b[39m\u001b[32m, line 3\u001b[39m\n\u001b[32m      1\u001b[39m \u001b[38;5;28;01mfrom\u001b[39;00m\u001b[38;5;250m \u001b[39m\u001b[34;01mtests\u001b[39;00m\u001b[38;5;250m \u001b[39m\u001b[38;5;28;01mimport\u001b[39;00m *\n\u001b[32m----> \u001b[39m\u001b[32m3\u001b[39m \u001b[43mrun_one_graph_test\u001b[49m\u001b[43m(\u001b[49m\u001b[32;43m1\u001b[39;49m\u001b[43m,\u001b[49m\u001b[32;43m10\u001b[39;49m\u001b[43m,\u001b[49m\u001b[32;43m20\u001b[39;49m\u001b[43m,\u001b[49m\u001b[32;43m20\u001b[39;49m\u001b[43m,\u001b[49m\u001b[38;5;28;43;01mFalse\u001b[39;49;00m\u001b[43m,\u001b[49m\u001b[33;43m\"\u001b[39;49m\u001b[33;43msparse\u001b[39;49m\u001b[33;43m\"\u001b[39;49m\u001b[43m)\u001b[49m\n",
      "\u001b[36mFile \u001b[39m\u001b[32m~\\Desktop\\Spectral-Crustering-Method-main\\tests.py:119\u001b[39m, in \u001b[36mrun_one_graph_test\u001b[39m\u001b[34m(sup, sub, node, thre, parallel, structure)\u001b[39m\n\u001b[32m    109\u001b[39m \u001b[38;5;66;03m# 构建一次图\u001b[39;00m\n\u001b[32m    110\u001b[39m L = generate_layers_groups_graph(\n\u001b[32m    111\u001b[39m     num_supergroups=sup,\n\u001b[32m    112\u001b[39m     num_subgroups_per_supergroup=sub,\n\u001b[32m   (...)\u001b[39m\u001b[32m    116\u001b[39m     p_inter_supergroup=\u001b[32m0.05\u001b[39m,\n\u001b[32m    117\u001b[39m )\n\u001b[32m--> \u001b[39m\u001b[32m119\u001b[39m a, b, c = \u001b[43mtest_duration_memory\u001b[49m\u001b[43m(\u001b[49m\u001b[43mL\u001b[49m\u001b[43m,\u001b[49m\u001b[43m \u001b[49m\u001b[43mthre\u001b[49m\u001b[43m=\u001b[49m\u001b[43mthre\u001b[49m\u001b[43m,\u001b[49m\u001b[43m \u001b[49m\u001b[43muse_parallel\u001b[49m\u001b[43m \u001b[49m\u001b[43m=\u001b[49m\u001b[43m \u001b[49m\u001b[43mparallel\u001b[49m\u001b[43m)\u001b[49m\n\u001b[32m    121\u001b[39m \u001b[38;5;28;01mreturn\u001b[39;00m {\n\u001b[32m    122\u001b[39m     \u001b[33m\"\u001b[39m\u001b[33mduration\u001b[39m\u001b[33m\"\u001b[39m: a,\n\u001b[32m    123\u001b[39m     \u001b[33m\"\u001b[39m\u001b[33mmemory\u001b[39m\u001b[33m\"\u001b[39m: b,\n\u001b[32m    124\u001b[39m     \u001b[33m\"\u001b[39m\u001b[33mratio\u001b[39m\u001b[33m\"\u001b[39m: c\n\u001b[32m    125\u001b[39m }\n",
      "\u001b[36mFile \u001b[39m\u001b[32m~\\Desktop\\Spectral-Crustering-Method-main\\tests.py:79\u001b[39m, in \u001b[36mtest_duration_memory\u001b[39m\u001b[34m(oL, thre, show, use_parallel, workers, max_parallel_depth, stru)\u001b[39m\n\u001b[32m     76\u001b[39m         \u001b[38;5;28;01mreturn\u001b[39;00m treebuilder(Lin, thre=thr, structure = stru)\n\u001b[32m     78\u001b[39m \u001b[38;5;66;03m# 3) 计时与内存：沿用你现成的封装\u001b[39;00m\n\u001b[32m---> \u001b[39m\u001b[32m79\u001b[39m T, duration, peak_memory = \u001b[43mmeasure_time_and_memory\u001b[49m\u001b[43m(\u001b[49m\u001b[43mbuilder_func\u001b[49m\u001b[43m,\u001b[49m\u001b[43m \u001b[49m\u001b[43mL\u001b[49m\u001b[43m,\u001b[49m\u001b[43m \u001b[49m\u001b[43mthre\u001b[49m\u001b[43m,\u001b[49m\u001b[43m \u001b[49m\u001b[43mstru\u001b[49m\u001b[43m)\u001b[49m\n\u001b[32m     81\u001b[39m \u001b[38;5;66;03m# 4) 取顺序并重排\u001b[39;00m\n\u001b[32m     82\u001b[39m order = T.get_order()\n",
      "\u001b[36mFile \u001b[39m\u001b[32m~\\Desktop\\Spectral-Crustering-Method-main\\tests.py:44\u001b[39m, in \u001b[36mmeasure_time_and_memory\u001b[39m\u001b[34m(func, *args, **kwargs)\u001b[39m\n\u001b[32m     42\u001b[39m tracemalloc.start()\n\u001b[32m     43\u001b[39m start_time = time.time()\n\u001b[32m---> \u001b[39m\u001b[32m44\u001b[39m result = \u001b[43mfunc\u001b[49m\u001b[43m(\u001b[49m\u001b[43m*\u001b[49m\u001b[43margs\u001b[49m\u001b[43m,\u001b[49m\u001b[43m \u001b[49m\u001b[43m*\u001b[49m\u001b[43m*\u001b[49m\u001b[43mkwargs\u001b[49m\u001b[43m)\u001b[49m\n\u001b[32m     45\u001b[39m end_time = time.time()\n\u001b[32m     46\u001b[39m _, peak = tracemalloc.get_traced_memory()\n",
      "\u001b[36mFile \u001b[39m\u001b[32m~\\Desktop\\Spectral-Crustering-Method-main\\tests.py:76\u001b[39m, in \u001b[36mtest_duration_memory.<locals>.builder_func\u001b[39m\u001b[34m(Lin, thr, stru)\u001b[39m\n\u001b[32m     75\u001b[39m \u001b[38;5;28;01mdef\u001b[39;00m\u001b[38;5;250m \u001b[39m\u001b[34mbuilder_func\u001b[39m(Lin, thr, stru):\n\u001b[32m---> \u001b[39m\u001b[32m76\u001b[39m     \u001b[38;5;28;01mreturn\u001b[39;00m \u001b[43mtreebuilder\u001b[49m\u001b[43m(\u001b[49m\u001b[43mLin\u001b[49m\u001b[43m,\u001b[49m\u001b[43m \u001b[49m\u001b[43mthre\u001b[49m\u001b[43m=\u001b[49m\u001b[43mthr\u001b[49m\u001b[43m,\u001b[49m\u001b[43m \u001b[49m\u001b[43mstructure\u001b[49m\u001b[43m \u001b[49m\u001b[43m=\u001b[49m\u001b[43m \u001b[49m\u001b[43mstru\u001b[49m\u001b[43m)\u001b[49m\n",
      "\u001b[36mFile \u001b[39m\u001b[32m~\\Desktop\\Spectral-Crustering-Method-main\\SCOPE.py:156\u001b[39m, in \u001b[36mtreebuilder\u001b[39m\u001b[34m(L, thre, indices, structure)\u001b[39m\n\u001b[32m    152\u001b[39m     L = L \u001b[38;5;28;01mif\u001b[39;00m sp.issparse(L) \u001b[38;5;28;01melse\u001b[39;00m csr_matrix(L)\n\u001b[32m    153\u001b[39m     \u001b[38;5;66;03m# L = L.astype(np.float32)\u001b[39;00m\n\u001b[32m    154\u001b[39m \n\u001b[32m    155\u001b[39m \u001b[38;5;66;03m# Apply bi-cut on submatrix\u001b[39;00m\n\u001b[32m--> \u001b[39m\u001b[32m156\u001b[39m first_group_local, second_group_local = \u001b[43mbicut_group\u001b[49m\u001b[43m(\u001b[49m\u001b[43mL\u001b[49m\u001b[43m)\u001b[49m\n\u001b[32m    158\u001b[39m \u001b[38;5;66;03m# Convert local indices back to global indices\u001b[39;00m\n\u001b[32m    159\u001b[39m first_group = [indices[i] \u001b[38;5;28;01mfor\u001b[39;00m i \u001b[38;5;129;01min\u001b[39;00m first_group_local]\n",
      "\u001b[36mFile \u001b[39m\u001b[32m~\\Desktop\\Spectral-Crustering-Method-main\\SCOPE.py:42\u001b[39m, in \u001b[36mbicut_group\u001b[39m\u001b[34m(L)\u001b[39m\n\u001b[32m     31\u001b[39m     \u001b[38;5;28;01mreturn\u001b[39;00m [\u001b[32m0\u001b[39m], [\u001b[32m1\u001b[39m]\n\u001b[32m     33\u001b[39m \u001b[38;5;66;03m# Get Fiedler vector and sort vertices\\\u001b[39;00m\n\u001b[32m     34\u001b[39m \n\u001b[32m     35\u001b[39m \u001b[38;5;66;03m# if structure == \"dense\":\u001b[39;00m\n\u001b[32m   (...)\u001b[39m\u001b[32m     39\u001b[39m \u001b[38;5;66;03m#     L = L if sp.issparse(L) else csr_matrix(L)\u001b[39;00m\n\u001b[32m     40\u001b[39m     \u001b[38;5;66;03m# L = L.astype(np.float32)\u001b[39;00m\n\u001b[32m---> \u001b[39m\u001b[32m42\u001b[39m _, vecs = \u001b[43meigsh\u001b[49m(L, k=\u001b[32m2\u001b[39m, which=\u001b[33m'\u001b[39m\u001b[33mSA\u001b[39m\u001b[33m'\u001b[39m)\n\u001b[32m     43\u001b[39m \u001b[38;5;66;03m# Find the second smallest eigenvalue (Fiedler value)\u001b[39;00m\n\u001b[32m     44\u001b[39m fiedler_vector = vecs[:, \u001b[32m1\u001b[39m]\n",
      "\u001b[31mNameError\u001b[39m: name 'eigsh' is not defined"
     ]
    }
   ],
   "source": []
  },
  {
   "cell_type": "code",
   "execution_count": null,
   "id": "da1ee13b-2780-472b-aa96-d4811cbcbbf3",
   "metadata": {},
   "outputs": [],
   "source": []
  }
 ],
 "metadata": {
  "kernelspec": {
   "display_name": "Python 3 (ipykernel)",
   "language": "python",
   "name": "python3"
  },
  "language_info": {
   "codemirror_mode": {
    "name": "ipython",
    "version": 3
   },
   "file_extension": ".py",
   "mimetype": "text/x-python",
   "name": "python",
   "nbconvert_exporter": "python",
   "pygments_lexer": "ipython3",
   "version": "3.13.7"
  }
 },
 "nbformat": 4,
 "nbformat_minor": 5
}
